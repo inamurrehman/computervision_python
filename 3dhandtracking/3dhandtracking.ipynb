{
 "cells": [
  {
   "cell_type": "code",
   "execution_count": null,
   "metadata": {},
   "outputs": [],
   "source": [
    "import cv2\n",
    "from cvzone.HandTrackingModule import HandDetector\n",
    "\n",
    "# webcam\n",
    "cap = cv2.VideoCapture(0)\n",
    "cap.set(3, 1280) \n",
    "cap.set(4, 720)\n",
    "\n",
    "# Hand detector\n",
    "detector = HandDetector(maxHands=1, detectionCon= 0.8)\n",
    "\n",
    "\n",
    "while True:\n",
    "    success , img = cap.read()\n",
    "    # Hands\n",
    "    hands, img = detector.findHands(img)\n",
    "    cv2.imshow(\"Image\", img)\n",
    "    cv2.waitKey(0)\n",
    "\n"
   ]
  }
 ],
 "metadata": {
  "interpreter": {
   "hash": "27f4651a69cc596613ff15020c30daccb765eb95dc5015a83c6bc95476bfaff1"
  },
  "kernelspec": {
   "display_name": "Python 3.10.2 64-bit",
   "language": "python",
   "name": "python3"
  },
  "language_info": {
   "codemirror_mode": {
    "name": "ipython",
    "version": 3
   },
   "file_extension": ".py",
   "mimetype": "text/x-python",
   "name": "python",
   "nbconvert_exporter": "python",
   "pygments_lexer": "ipython3",
   "version": "3.10.2"
  },
  "orig_nbformat": 4
 },
 "nbformat": 4,
 "nbformat_minor": 2
}
