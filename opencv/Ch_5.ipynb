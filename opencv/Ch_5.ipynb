{
 "cells": [
  {
   "cell_type": "markdown",
   "metadata": {},
   "source": [
    "## Saving and writing images"
   ]
  },
  {
   "cell_type": "code",
   "execution_count": null,
   "metadata": {},
   "outputs": [],
   "source": []
  },
  {
   "cell_type": "code",
   "execution_count": 4,
   "metadata": {},
   "outputs": [
    {
     "data": {
      "text/plain": [
       "True"
      ]
     },
     "execution_count": 4,
     "metadata": {},
     "output_type": "execute_result"
    }
   ],
   "source": [
    "# Image saving and writing\n",
    "import cv2 as cv\n",
    "from cv2 import cvtColor\n",
    "from cv2 import imshow\n",
    "from cv2 import imwrite\n",
    "img = cv.imread('resources/inampic.jpg')\n",
    "grayimg = cv.cvtColor(img, cv.COLOR_BGR2GRAY)\n",
    "(thresh, b_w) = cv.threshold(grayimg, 127, 255, cv.THRESH_BINARY)\n",
    "imwrite('resources/Image_gray.jpg', grayimg)\n",
    "imwrite('resources/black and white image.jpg', b_w)\n"
   ]
  }
 ],
 "metadata": {
  "interpreter": {
   "hash": "27f4651a69cc596613ff15020c30daccb765eb95dc5015a83c6bc95476bfaff1"
  },
  "kernelspec": {
   "display_name": "Python 3.10.2 64-bit",
   "language": "python",
   "name": "python3"
  },
  "language_info": {
   "codemirror_mode": {
    "name": "ipython",
    "version": 3
   },
   "file_extension": ".py",
   "mimetype": "text/x-python",
   "name": "python",
   "nbconvert_exporter": "python",
   "pygments_lexer": "ipython3",
   "version": "3.10.2"
  },
  "orig_nbformat": 4
 },
 "nbformat": 4,
 "nbformat_minor": 2
}
