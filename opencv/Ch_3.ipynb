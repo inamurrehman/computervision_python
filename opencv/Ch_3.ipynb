{
 "cells": [
  {
   "cell_type": "markdown",
   "metadata": {},
   "source": [
    "## Conversion to Grayscale"
   ]
  },
  {
   "cell_type": "code",
   "execution_count": 8,
   "metadata": {},
   "outputs": [],
   "source": [
    "## Converting an image into grayscale\n",
    "\n",
    "#Import libraries\n",
    "import cv2 as cv\n",
    "from cv2 import cvtColor\n",
    "\n",
    "\n",
    "img = cv.imread(\"resources/inampic.jpg\")\n",
    "img = cv.resize(img, (600, 400))\n",
    "\n",
    "# Conversion to grayscale\n",
    "gray_img = cvtColor(img, cv.COLOR_BGR2GRAY)\n",
    "\n",
    "# Display code\n",
    "cv.imshow('original', img)\n",
    "cv.imshow('Another image', gray_img)\n",
    "\n",
    "# delay code\n",
    "cv.waitKey(0)\n",
    "cv.destroyAllWindows()"
   ]
  }
 ],
 "metadata": {
  "interpreter": {
   "hash": "27f4651a69cc596613ff15020c30daccb765eb95dc5015a83c6bc95476bfaff1"
  },
  "kernelspec": {
   "display_name": "Python 3.10.2 64-bit",
   "language": "python",
   "name": "python3"
  },
  "language_info": {
   "codemirror_mode": {
    "name": "ipython",
    "version": 3
   },
   "file_extension": ".py",
   "mimetype": "text/x-python",
   "name": "python",
   "nbconvert_exporter": "python",
   "pygments_lexer": "ipython3",
   "version": "3.10.2"
  },
  "orig_nbformat": 4
 },
 "nbformat": 4,
 "nbformat_minor": 2
}
