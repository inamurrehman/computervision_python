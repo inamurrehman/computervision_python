{
 "cells": [
  {
   "cell_type": "markdown",
   "metadata": {},
   "source": [
    "## Converting image into black and white"
   ]
  },
  {
   "cell_type": "code",
   "execution_count": 9,
   "metadata": {},
   "outputs": [],
   "source": [
    "# Image into B and W image\n",
    "\n",
    "import cv2 as cv\n",
    "from cv2 import cvtColor\n",
    "\n",
    "img = cv.imread('resources/inampic.jpg')\n",
    "\n",
    "grayimg = cv.cvtColor(img, cv.COLOR_BGR2GRAY)\n",
    "\n",
    "\n",
    "(thresh, b_w) = cv.threshold(grayimg, 127, 255, cv.THRESH_BINARY)\n",
    "\n",
    "cv.imshow(\"original\", img)\n",
    "cv.imshow(\"gray\", grayimg)\n",
    "cv.imshow(\"black and white\", b_w)\n",
    "cv.waitKey(0)\n",
    "cv.destroyAllWindows()"
   ]
  }
 ],
 "metadata": {
  "interpreter": {
   "hash": "27f4651a69cc596613ff15020c30daccb765eb95dc5015a83c6bc95476bfaff1"
  },
  "kernelspec": {
   "display_name": "Python 3.10.2 64-bit",
   "language": "python",
   "name": "python3"
  },
  "language_info": {
   "codemirror_mode": {
    "name": "ipython",
    "version": 3
   },
   "file_extension": ".py",
   "mimetype": "text/x-python",
   "name": "python",
   "nbconvert_exporter": "python",
   "pygments_lexer": "ipython3",
   "version": "3.10.2"
  },
  "orig_nbformat": 4
 },
 "nbformat": 4,
 "nbformat_minor": 2
}
