{
 "cells": [
  {
   "cell_type": "code",
   "execution_count": 6,
   "metadata": {},
   "outputs": [],
   "source": [
    "# Converting video to gray \n",
    "\n",
    "import cv2 as cv\n",
    "\n",
    "cap = cv.VideoCapture('resources/Mulk.mp4')\n",
    "\n",
    "while(True):\n",
    "    (ret, frame) = cap.read()\n",
    "    grayframe = cv.cvtColor(frame, cv.COLOR_BGR2GRAY)\n",
    "\n",
    "    if ret == True:\n",
    "        cv.imshow('video', grayframe)\n",
    "        if cv.waitKey(1) & 0xFF == ord('q'):\n",
    "            break\n",
    "    else:\n",
    "        break\n",
    "cap.release()\n",
    "cv.destroyAllWindows()\n",
    "\n"
   ]
  },
  {
   "cell_type": "code",
   "execution_count": 7,
   "metadata": {},
   "outputs": [],
   "source": [
    "# Converting video to black and white\n",
    "\n",
    "import cv2 as cv\n",
    "\n",
    "cap = cv.VideoCapture('resources/Mulk.mp4')\n",
    "\n",
    "while(True):\n",
    "    (ret, frame) = cap.read()\n",
    "    grayframe = cv.cvtColor(frame, cv.COLOR_BGR2GRAY)\n",
    "    (threshold, binary) = cv.threshold(grayframe, 127,255, cv.THRESH_BINARY)\n",
    "# To show in player\n",
    "    if ret == True:\n",
    "        cv.imshow('video', binary)\n",
    "        if cv.waitKey(1) & 0xFF == ord('q'):\n",
    "            break\n",
    "    else:\n",
    "        break\n",
    "cap.release()\n",
    "cv.destroyAllWindows()"
   ]
  }
 ],
 "metadata": {
  "interpreter": {
   "hash": "27f4651a69cc596613ff15020c30daccb765eb95dc5015a83c6bc95476bfaff1"
  },
  "kernelspec": {
   "display_name": "Python 3.10.2 64-bit",
   "language": "python",
   "name": "python3"
  },
  "language_info": {
   "codemirror_mode": {
    "name": "ipython",
    "version": 3
   },
   "file_extension": ".py",
   "mimetype": "text/x-python",
   "name": "python",
   "nbconvert_exporter": "python",
   "pygments_lexer": "ipython3",
   "version": "3.10.2"
  },
  "orig_nbformat": 4
 },
 "nbformat": 4,
 "nbformat_minor": 2
}
